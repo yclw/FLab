{
 "cells": [
  {
   "cell_type": "markdown",
   "id": "30624570",
   "metadata": {},
   "source": [
    "# 刻度尺长度测量实验\n",
    "\n",
    "## 一、实验原理\n",
    "\n",
    "刻度尺长度测量实验是物理学中的一个基础实验，通过测量刻度尺的长度来验证物理学中的长度单位和测量方法。\n",
    "\n",
    "## 二、实验器材\n",
    "\n",
    "刻度尺（分度值为1mm）：用于测量长度\n",
    "\n",
    "## 三、实验步骤\n",
    "\n",
    "1. 获得L1，L2（物体两端读数）：用刻度尺测量物体的两端读数，记录为L1和L2\n",
    "2. 计算物体长度\n",
    "3. 计算物体长度的不确定度\n",
    "\n",
    "## 四、实验数据"
   ]
  },
  {
   "cell_type": "code",
   "execution_count": null,
   "id": "6210a672",
   "metadata": {},
   "outputs": [],
   "source": [
    "# 输入数据\n",
    "L1 = 0.0\n",
    "L2 = 5.0"
   ]
  },
  {
   "cell_type": "markdown",
   "id": "5b9effac",
   "metadata": {},
   "source": [
    "\n",
    "## 五、实验计算\n",
    "### 1 计算物体长度\n",
    "\n",
    "$\\overline{L} = L2 - L1$\n",
    "\n",
    "### 2 计算物体长度的不确定度\n",
    "\n",
    "#### 2.1 A类不确定度\n",
    "$u_A = 0 (忽略不计)$\n",
    "\n",
    "#### 2.2 B类不确定度\n",
    "$u_{\\text{B1}} = \\frac{Δ_仪}{\\sqrt{3}} (仪器不确定度 取0.5mm)$\n",
    "\n",
    "$u_{\\text{B2}} = \\frac{1mm}{10} (读数误差 取0.1mm)$\n",
    "\n",
    "$u_B = \\sqrt{u_{\\text{B1}}^2 + 2*u_{\\text{B2}}^2}$\n",
    "\n",
    "#### 2.3 不确定度\n",
    "$u = \\sqrt{u_B^2 + u_A^2}$\n",
    "\n",
    "## 六、实验结果\n",
    "\n",
    "$L = \\overline{L} \\pm u_L$"
   ]
  },
  {
   "cell_type": "markdown",
   "id": "065e5892",
   "metadata": {},
   "source": [
    "---"
   ]
  },
  {
   "cell_type": "markdown",
   "id": "03c89321",
   "metadata": {},
   "source": [
    "## 计算过程py代码"
   ]
  },
  {
   "cell_type": "code",
   "execution_count": null,
   "id": "f507f35c",
   "metadata": {},
   "outputs": [
    {
     "data": {
      "text/markdown": [
       "\n",
       "## 实验计算\n",
       "$\\overline{{L}} = L2 - L1 = 5.000 - 0.000 = 5.000mm$\n",
       "\n",
       "$u_A = 0 (忽略不计)$\n",
       "\n",
       "$u_{\\text{B1}} = \\frac{Δ_仪}{\\sqrt{3}} = \\frac{0.500}{\\sqrt{3}} = 0.289mm$\n",
       "\n",
       "$u_{\\text{B2}} = \\frac{1mm}{10} = 0.100mm$\n",
       "\n",
       "$u_B = \\sqrt{u_{\\text{B1}}^2 + 2*u_{\\text{B2}}^2} = \\sqrt{0.289^2 + 2*0.100^2} = 0.322mm$\n",
       "\n",
       "$u = \\sqrt{u_B^2 + u_A^2} = \\sqrt{0.322^2 + 0.000^2} = 0.322mm$\n",
       "\n",
       "$L = \\overline{{L}} \\pm u_L = 5.000 \\pm 0.322mm$\n",
       "\n"
      ],
      "text/plain": [
       "<IPython.core.display.Markdown object>"
      ]
     },
     "metadata": {},
     "output_type": "display_data"
    }
   ],
   "source": [
    "# 导入模块\n",
    "import math\n",
    "from IPython.display import display, Markdown\n",
    "\n",
    "# 计算物体长度\n",
    "L = L2 - L1\n",
    "\n",
    "# A类不确定度\n",
    "u_A = 0\n",
    "\n",
    "# B类不确定度\n",
    "Δ_仪 = 0.5 # 仪器不确定度 取0.5mm\n",
    "u_B1 = Δ_仪 / math.sqrt(3)\n",
    "u_B2 = 0.1 # 读数误差 取0.1mm\n",
    "\n",
    "u_B1 = round(u_B1, 3) # 保留3位小数\n",
    "u_B2 = round(u_B2, 3) # 保留3位小数\n",
    "\n",
    "u_B = math.sqrt(u_B1**2 + 2*u_B2**2)\n",
    "u_B = round(u_B, 3) # 保留3位小数\n",
    "\n",
    "# 不确定度\n",
    "u = math.sqrt(u_A**2 + u_B**2)\n",
    "u = round(u, 3) # 保留3位小数\n",
    "\n",
    "# 完整计算过程（Markdown格式）\n",
    "markdown_text = \"\"\"\n",
    "## 实验计算\n",
    "$\\\\overline{{L}} = L2 - L1 = %.3f - %.3f = %.3fmm$\n",
    "\n",
    "$u_A = 0 (忽略不计)$\n",
    "\n",
    "$u_{\\\\text{B1}} = \\\\frac{Δ_仪}{\\\\sqrt{3}} = \\\\frac{%.3f}{\\\\sqrt{3}} = %.3fmm$\n",
    "\n",
    "$u_{\\\\text{B2}} = \\\\frac{1mm}{10} = %.3fmm$\n",
    "\n",
    "$u_B = \\\\sqrt{u_{\\\\text{B1}}^2 + 2*u_{\\\\text{B2}}^2} = \\\\sqrt{%.3f^2 + 2*%.3f^2} = %.3fmm$\n",
    "\n",
    "$u = \\\\sqrt{u_B^2 + u_A^2} = \\\\sqrt{%.3f^2 + %.3f^2} = %.3fmm$\n",
    "\n",
    "$L = \\\\overline{{L}} \\\\pm u_L = %.3f \\\\pm %.3fmm$\n",
    "\n",
    "\"\"\" % (\n",
    "    L2, L1, L, \n",
    "    Δ_仪, u_B1,\n",
    "    u_B2, \n",
    "    u_B1, u_B2, u_B, \n",
    "    u_B, u_A, u, \n",
    "    L, u\n",
    ")\n",
    "\n",
    "display(Markdown(markdown_text))"
   ]
  }
 ],
 "metadata": {
  "kernelspec": {
   "display_name": "physics_experiment",
   "language": "python",
   "name": "python3"
  },
  "language_info": {
   "codemirror_mode": {
    "name": "ipython",
    "version": 3
   },
   "file_extension": ".py",
   "mimetype": "text/x-python",
   "name": "python",
   "nbconvert_exporter": "python",
   "pygments_lexer": "ipython3",
   "version": "3.9.21"
  }
 },
 "nbformat": 4,
 "nbformat_minor": 5
}
